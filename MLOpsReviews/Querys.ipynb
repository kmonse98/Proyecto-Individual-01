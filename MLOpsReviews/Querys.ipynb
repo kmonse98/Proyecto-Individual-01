{
 "cells": [
  {
   "cell_type": "code",
   "execution_count": 45,
   "metadata": {},
   "outputs": [],
   "source": [
    "from fastapi import FastAPI, HTTPException\n",
    "import pandas as pd\n",
    "from pandasql import sqldf"
   ]
  },
  {
   "cell_type": "code",
   "execution_count": 47,
   "metadata": {},
   "outputs": [
    {
     "data": {
      "text/html": [
       "<div>\n",
       "<style scoped>\n",
       "    .dataframe tbody tr th:only-of-type {\n",
       "        vertical-align: middle;\n",
       "    }\n",
       "\n",
       "    .dataframe tbody tr th {\n",
       "        vertical-align: top;\n",
       "    }\n",
       "\n",
       "    .dataframe thead th {\n",
       "        text-align: right;\n",
       "    }\n",
       "</style>\n",
       "<table border=\"1\" class=\"dataframe\">\n",
       "  <thead>\n",
       "    <tr style=\"text-align: right;\">\n",
       "      <th></th>\n",
       "      <th>type</th>\n",
       "      <th>title</th>\n",
       "      <th>director</th>\n",
       "      <th>cast</th>\n",
       "      <th>country</th>\n",
       "      <th>date_added</th>\n",
       "      <th>release_year</th>\n",
       "      <th>rating</th>\n",
       "      <th>duration</th>\n",
       "      <th>listed_in</th>\n",
       "      <th>description</th>\n",
       "      <th>id</th>\n",
       "      <th>duration_int</th>\n",
       "      <th>duration_type</th>\n",
       "    </tr>\n",
       "  </thead>\n",
       "  <tbody>\n",
       "    <tr>\n",
       "      <th>0</th>\n",
       "      <td>movie</td>\n",
       "      <td>the grand seduction</td>\n",
       "      <td>don mckellar</td>\n",
       "      <td>brendan gleeson, taylor kitsch, gordon pinsent</td>\n",
       "      <td>canada</td>\n",
       "      <td>2021-03-30</td>\n",
       "      <td>2014</td>\n",
       "      <td>g</td>\n",
       "      <td>113 min</td>\n",
       "      <td>comedy, drama</td>\n",
       "      <td>a small fishing village must procure a local d...</td>\n",
       "      <td>as1</td>\n",
       "      <td>113.0</td>\n",
       "      <td>min</td>\n",
       "    </tr>\n",
       "    <tr>\n",
       "      <th>1</th>\n",
       "      <td>movie</td>\n",
       "      <td>take care good night</td>\n",
       "      <td>girish joshi</td>\n",
       "      <td>mahesh manjrekar, abhay mahajan, sachin khedekar</td>\n",
       "      <td>india</td>\n",
       "      <td>2021-03-30</td>\n",
       "      <td>2018</td>\n",
       "      <td>13+</td>\n",
       "      <td>110 min</td>\n",
       "      <td>drama, international</td>\n",
       "      <td>a metro family decides to fight a cyber crimin...</td>\n",
       "      <td>as2</td>\n",
       "      <td>110.0</td>\n",
       "      <td>min</td>\n",
       "    </tr>\n",
       "    <tr>\n",
       "      <th>2</th>\n",
       "      <td>movie</td>\n",
       "      <td>secrets of deception</td>\n",
       "      <td>josh webber</td>\n",
       "      <td>tom sizemore, lorenzo lamas, robert lasardo, r...</td>\n",
       "      <td>united states</td>\n",
       "      <td>2021-03-30</td>\n",
       "      <td>2017</td>\n",
       "      <td>g</td>\n",
       "      <td>74 min</td>\n",
       "      <td>action, drama, suspense</td>\n",
       "      <td>after a man discovers his wife is cheating on ...</td>\n",
       "      <td>as3</td>\n",
       "      <td>74.0</td>\n",
       "      <td>min</td>\n",
       "    </tr>\n",
       "  </tbody>\n",
       "</table>\n",
       "</div>"
      ],
      "text/plain": [
       "    type                 title      director  \\\n",
       "0  movie   the grand seduction  don mckellar   \n",
       "1  movie  take care good night  girish joshi   \n",
       "2  movie  secrets of deception   josh webber   \n",
       "\n",
       "                                                cast        country  \\\n",
       "0     brendan gleeson, taylor kitsch, gordon pinsent         canada   \n",
       "1   mahesh manjrekar, abhay mahajan, sachin khedekar          india   \n",
       "2  tom sizemore, lorenzo lamas, robert lasardo, r...  united states   \n",
       "\n",
       "   date_added  release_year rating duration                listed_in  \\\n",
       "0  2021-03-30          2014      g  113 min            comedy, drama   \n",
       "1  2021-03-30          2018    13+  110 min     drama, international   \n",
       "2  2021-03-30          2017      g   74 min  action, drama, suspense   \n",
       "\n",
       "                                         description   id  duration_int  \\\n",
       "0  a small fishing village must procure a local d...  as1         113.0   \n",
       "1  a metro family decides to fight a cyber crimin...  as2         110.0   \n",
       "2  after a man discovers his wife is cheating on ...  as3          74.0   \n",
       "\n",
       "  duration_type  \n",
       "0           min  \n",
       "1           min  \n",
       "2           min  "
      ]
     },
     "execution_count": 47,
     "metadata": {},
     "output_type": "execute_result"
    }
   ],
   "source": [
    "# Creamos un data frame \n",
    "DF = pd.read_csv(\"movie_set.csv\")\n",
    "DF.head(3)"
   ]
  },
  {
   "attachments": {},
   "cell_type": "markdown",
   "metadata": {},
   "source": [
    "Película con mayor duración con filtros opcionales de AÑO, PLATAFORMA Y TIPO DE DURACIÓN. (la función debe llamarse get_max_duration(year, platform, duration_type))"
   ]
  },
  {
   "cell_type": "code",
   "execution_count": 48,
   "metadata": {},
   "outputs": [],
   "source": [
    "pysqldf = lambda q: sqldf(q, globals())"
   ]
  },
  {
   "cell_type": "code",
   "execution_count": 49,
   "metadata": {},
   "outputs": [],
   "source": [
    "DF = pd.read_csv(\"movie_set.csv\")"
   ]
  },
  {
   "cell_type": "code",
   "execution_count": 51,
   "metadata": {},
   "outputs": [],
   "source": [
    "query = '''SELECT * FROM DF WHERE id LIKE 'amazon' '''"
   ]
  },
  {
   "cell_type": "code",
   "execution_count": 52,
   "metadata": {},
   "outputs": [
    {
     "ename": "AttributeError",
     "evalue": "'Connection' object has no attribute 'connect'",
     "output_type": "error",
     "traceback": [
      "\u001b[1;31m---------------------------------------------------------------------------\u001b[0m",
      "\u001b[1;31mAttributeError\u001b[0m                            Traceback (most recent call last)",
      "\u001b[1;32mc:\\Users\\jessg\\OneDrive\\Escritorio\\HENRY-Bootcamp\\Proyectos Individuales\\PI_ML_OPS-main\\MLOpsReviews\\Querys.ipynb Celda 7\u001b[0m in \u001b[0;36m<cell line: 1>\u001b[1;34m()\u001b[0m\n\u001b[1;32m----> <a href='vscode-notebook-cell:/c%3A/Users/jessg/OneDrive/Escritorio/HENRY-Bootcamp/Proyectos%20Individuales/PI_ML_OPS-main/MLOpsReviews/Querys.ipynb#X14sZmlsZQ%3D%3D?line=0'>1</a>\u001b[0m result \u001b[39m=\u001b[39m pysqldf(query)\n\u001b[0;32m      <a href='vscode-notebook-cell:/c%3A/Users/jessg/OneDrive/Escritorio/HENRY-Bootcamp/Proyectos%20Individuales/PI_ML_OPS-main/MLOpsReviews/Querys.ipynb#X14sZmlsZQ%3D%3D?line=1'>2</a>\u001b[0m result\u001b[39m.\u001b[39mhead()\n",
      "\u001b[1;32mc:\\Users\\jessg\\OneDrive\\Escritorio\\HENRY-Bootcamp\\Proyectos Individuales\\PI_ML_OPS-main\\MLOpsReviews\\Querys.ipynb Celda 7\u001b[0m in \u001b[0;36m<lambda>\u001b[1;34m(q)\u001b[0m\n\u001b[1;32m----> <a href='vscode-notebook-cell:/c%3A/Users/jessg/OneDrive/Escritorio/HENRY-Bootcamp/Proyectos%20Individuales/PI_ML_OPS-main/MLOpsReviews/Querys.ipynb#X14sZmlsZQ%3D%3D?line=0'>1</a>\u001b[0m pysqldf \u001b[39m=\u001b[39m \u001b[39mlambda\u001b[39;00m q: sqldf(q, \u001b[39mglobals\u001b[39;49m())\n",
      "File \u001b[1;32mc:\\Users\\jessg\\AppData\\Local\\Programs\\Python\\Python310\\lib\\site-packages\\pandasql\\sqldf.py:156\u001b[0m, in \u001b[0;36msqldf\u001b[1;34m(query, env, db_uri)\u001b[0m\n\u001b[0;32m    124\u001b[0m \u001b[39mdef\u001b[39;00m \u001b[39msqldf\u001b[39m(query, env\u001b[39m=\u001b[39m\u001b[39mNone\u001b[39;00m, db_uri\u001b[39m=\u001b[39m\u001b[39m'\u001b[39m\u001b[39msqlite:///:memory:\u001b[39m\u001b[39m'\u001b[39m):\n\u001b[0;32m    125\u001b[0m     \u001b[39m\"\"\"\u001b[39;00m\n\u001b[0;32m    126\u001b[0m \u001b[39m    Query pandas data frames using sql syntax\u001b[39;00m\n\u001b[0;32m    127\u001b[0m \u001b[39m    This function is meant for backward compatibility only. New users are encouraged to use the PandaSQL class.\u001b[39;00m\n\u001b[1;32m   (...)\u001b[0m\n\u001b[0;32m    154\u001b[0m \u001b[39m    >>> sqldf(\"select avg(x) from df;\", locals())\u001b[39;00m\n\u001b[0;32m    155\u001b[0m \u001b[39m    \"\"\"\u001b[39;00m\n\u001b[1;32m--> 156\u001b[0m     \u001b[39mreturn\u001b[39;00m PandaSQL(db_uri)(query, env)\n",
      "File \u001b[1;32mc:\\Users\\jessg\\AppData\\Local\\Programs\\Python\\Python310\\lib\\site-packages\\pandasql\\sqldf.py:58\u001b[0m, in \u001b[0;36mPandaSQL.__call__\u001b[1;34m(self, query, env)\u001b[0m\n\u001b[0;32m     56\u001b[0m         \u001b[39mcontinue\u001b[39;00m\n\u001b[0;32m     57\u001b[0m     \u001b[39mself\u001b[39m\u001b[39m.\u001b[39mloaded_tables\u001b[39m.\u001b[39madd(table_name)\n\u001b[1;32m---> 58\u001b[0m     write_table(env[table_name], table_name, conn)\n\u001b[0;32m     60\u001b[0m \u001b[39mtry\u001b[39;00m:\n\u001b[0;32m     61\u001b[0m     result \u001b[39m=\u001b[39m read_sql(query, conn)\n",
      "File \u001b[1;32mc:\\Users\\jessg\\AppData\\Local\\Programs\\Python\\Python310\\lib\\site-packages\\pandasql\\sqldf.py:120\u001b[0m, in \u001b[0;36mwrite_table\u001b[1;34m(df, tablename, conn)\u001b[0m\n\u001b[0;32m    117\u001b[0m \u001b[39mwith\u001b[39;00m catch_warnings():\n\u001b[0;32m    118\u001b[0m     filterwarnings(\u001b[39m'\u001b[39m\u001b[39mignore\u001b[39m\u001b[39m'\u001b[39m,\n\u001b[0;32m    119\u001b[0m                    message\u001b[39m=\u001b[39m\u001b[39m'\u001b[39m\u001b[39mThe provided table name \u001b[39m\u001b[39m\\'\u001b[39;00m\u001b[39m%s\u001b[39;00m\u001b[39m\\'\u001b[39;00m\u001b[39m is not found exactly as such in the database\u001b[39m\u001b[39m'\u001b[39m \u001b[39m%\u001b[39m tablename)\n\u001b[1;32m--> 120\u001b[0m     to_sql(df, name\u001b[39m=\u001b[39;49mtablename, con\u001b[39m=\u001b[39;49mconn,\n\u001b[0;32m    121\u001b[0m            index\u001b[39m=\u001b[39;49m\u001b[39mnot\u001b[39;49;00m \u001b[39many\u001b[39;49m(name \u001b[39mis\u001b[39;49;00m \u001b[39mNone\u001b[39;49;00m \u001b[39mfor\u001b[39;49;00m name \u001b[39min\u001b[39;49;00m df\u001b[39m.\u001b[39;49mindex\u001b[39m.\u001b[39;49mnames))\n",
      "File \u001b[1;32mc:\\Users\\jessg\\AppData\\Local\\Programs\\Python\\Python310\\lib\\site-packages\\pandas\\io\\sql.py:697\u001b[0m, in \u001b[0;36mto_sql\u001b[1;34m(frame, name, con, schema, if_exists, index, index_label, chunksize, dtype, method, engine, **engine_kwargs)\u001b[0m\n\u001b[0;32m    692\u001b[0m \u001b[39melif\u001b[39;00m \u001b[39mnot\u001b[39;00m \u001b[39misinstance\u001b[39m(frame, DataFrame):\n\u001b[0;32m    693\u001b[0m     \u001b[39mraise\u001b[39;00m \u001b[39mNotImplementedError\u001b[39;00m(\n\u001b[0;32m    694\u001b[0m         \u001b[39m\"\u001b[39m\u001b[39m'\u001b[39m\u001b[39mframe\u001b[39m\u001b[39m'\u001b[39m\u001b[39m argument should be either a Series or a DataFrame\u001b[39m\u001b[39m\"\u001b[39m\n\u001b[0;32m    695\u001b[0m     )\n\u001b[1;32m--> 697\u001b[0m \u001b[39mreturn\u001b[39;00m pandas_sql\u001b[39m.\u001b[39mto_sql(\n\u001b[0;32m    698\u001b[0m     frame,\n\u001b[0;32m    699\u001b[0m     name,\n\u001b[0;32m    700\u001b[0m     if_exists\u001b[39m=\u001b[39mif_exists,\n\u001b[0;32m    701\u001b[0m     index\u001b[39m=\u001b[39mindex,\n\u001b[0;32m    702\u001b[0m     index_label\u001b[39m=\u001b[39mindex_label,\n\u001b[0;32m    703\u001b[0m     schema\u001b[39m=\u001b[39mschema,\n\u001b[0;32m    704\u001b[0m     chunksize\u001b[39m=\u001b[39mchunksize,\n\u001b[0;32m    705\u001b[0m     dtype\u001b[39m=\u001b[39mdtype,\n\u001b[0;32m    706\u001b[0m     method\u001b[39m=\u001b[39mmethod,\n\u001b[0;32m    707\u001b[0m     engine\u001b[39m=\u001b[39mengine,\n\u001b[0;32m    708\u001b[0m     \u001b[39m*\u001b[39m\u001b[39m*\u001b[39mengine_kwargs,\n\u001b[0;32m    709\u001b[0m )\n",
      "File \u001b[1;32mc:\\Users\\jessg\\AppData\\Local\\Programs\\Python\\Python310\\lib\\site-packages\\pandas\\io\\sql.py:1751\u001b[0m, in \u001b[0;36mSQLDatabase.to_sql\u001b[1;34m(self, frame, name, if_exists, index, index_label, schema, chunksize, dtype, method, engine, **engine_kwargs)\u001b[0m\n\u001b[0;32m   1729\u001b[0m table \u001b[39m=\u001b[39m \u001b[39mself\u001b[39m\u001b[39m.\u001b[39mprep_table(\n\u001b[0;32m   1730\u001b[0m     frame\u001b[39m=\u001b[39mframe,\n\u001b[0;32m   1731\u001b[0m     name\u001b[39m=\u001b[39mname,\n\u001b[1;32m   (...)\u001b[0m\n\u001b[0;32m   1736\u001b[0m     dtype\u001b[39m=\u001b[39mdtype,\n\u001b[0;32m   1737\u001b[0m )\n\u001b[0;32m   1739\u001b[0m total_inserted \u001b[39m=\u001b[39m sql_engine\u001b[39m.\u001b[39minsert_records(\n\u001b[0;32m   1740\u001b[0m     table\u001b[39m=\u001b[39mtable,\n\u001b[0;32m   1741\u001b[0m     con\u001b[39m=\u001b[39m\u001b[39mself\u001b[39m\u001b[39m.\u001b[39mconnectable,\n\u001b[1;32m   (...)\u001b[0m\n\u001b[0;32m   1748\u001b[0m     \u001b[39m*\u001b[39m\u001b[39m*\u001b[39mengine_kwargs,\n\u001b[0;32m   1749\u001b[0m )\n\u001b[1;32m-> 1751\u001b[0m \u001b[39mself\u001b[39;49m\u001b[39m.\u001b[39;49mcheck_case_sensitive(name\u001b[39m=\u001b[39;49mname, schema\u001b[39m=\u001b[39;49mschema)\n\u001b[0;32m   1752\u001b[0m \u001b[39mreturn\u001b[39;00m total_inserted\n",
      "File \u001b[1;32mc:\\Users\\jessg\\AppData\\Local\\Programs\\Python\\Python310\\lib\\site-packages\\pandas\\io\\sql.py:1644\u001b[0m, in \u001b[0;36mSQLDatabase.check_case_sensitive\u001b[1;34m(self, name, schema)\u001b[0m\n\u001b[0;32m   1640\u001b[0m \u001b[39mif\u001b[39;00m \u001b[39mnot\u001b[39;00m name\u001b[39m.\u001b[39misdigit() \u001b[39mand\u001b[39;00m \u001b[39mnot\u001b[39;00m name\u001b[39m.\u001b[39mislower():\n\u001b[0;32m   1641\u001b[0m     \u001b[39m# check for potentially case sensitivity issues (GH7815)\u001b[39;00m\n\u001b[0;32m   1642\u001b[0m     \u001b[39m# Only check when name is not a number and name is not lower case\u001b[39;00m\n\u001b[0;32m   1643\u001b[0m     engine \u001b[39m=\u001b[39m \u001b[39mself\u001b[39m\u001b[39m.\u001b[39mconnectable\u001b[39m.\u001b[39mengine\n\u001b[1;32m-> 1644\u001b[0m     \u001b[39mwith\u001b[39;00m \u001b[39mself\u001b[39;49m\u001b[39m.\u001b[39;49mconnectable\u001b[39m.\u001b[39;49mconnect() \u001b[39mas\u001b[39;00m conn:\n\u001b[0;32m   1645\u001b[0m         \u001b[39mif\u001b[39;00m _gt14():\n\u001b[0;32m   1646\u001b[0m             \u001b[39mfrom\u001b[39;00m \u001b[39msqlalchemy\u001b[39;00m \u001b[39mimport\u001b[39;00m inspect\n",
      "\u001b[1;31mAttributeError\u001b[0m: 'Connection' object has no attribute 'connect'"
     ]
    }
   ],
   "source": [
    "result = pysqldf(query)\n",
    "result.head()"
   ]
  },
  {
   "cell_type": "code",
   "execution_count": 28,
   "metadata": {},
   "outputs": [],
   "source": [
    "def get_max_duration(platform = None, release_year = None, duration_type = None):\n",
    "    DF = pd.read_csv(\"movie_set.csv\")\n",
    "    #maximo = DF['duration_int'].max\n",
    "    #Definición de las plataformas:\n",
    "    if platform == \"amazon\":\n",
    "        plat = \"a%\"\n",
    "    elif platform == \"disney\":\n",
    "        plat = \"d%\"\n",
    "    elif platform == \"hulu\":\n",
    "        plat = \"h%\"\n",
    "    elif platform == \"netflix\":\n",
    "        plat = \"n%\"\n",
    "    else:\n",
    "        return (\"amazon, disney, hulu, netflix.\")\n",
    "    pysqldf = lambda q: sqldf(q, globals())\n",
    "    #QUERY:\n",
    "    query = f\"SELECT * FROM DF WHERE id LIKE '{plat}'\"\n",
    "    #result = sqldf(query)\n",
    "    \n",
    "    df = pysqldf(query)\t\n",
    "    df.head()\n",
    "    \n",
    "    "
   ]
  },
  {
   "cell_type": "code",
   "execution_count": 29,
   "metadata": {},
   "outputs": [
    {
     "ename": "AttributeError",
     "evalue": "'Connection' object has no attribute 'connect'",
     "output_type": "error",
     "traceback": [
      "\u001b[1;31m---------------------------------------------------------------------------\u001b[0m",
      "\u001b[1;31mAttributeError\u001b[0m                            Traceback (most recent call last)",
      "\u001b[1;32mc:\\Users\\jessg\\OneDrive\\Escritorio\\HENRY-Bootcamp\\Proyectos Individuales\\PI_ML_OPS-main\\MLOpsReviews\\Querys.ipynb Celda 5\u001b[0m in \u001b[0;36m<cell line: 1>\u001b[1;34m()\u001b[0m\n\u001b[1;32m----> <a href='vscode-notebook-cell:/c%3A/Users/jessg/OneDrive/Escritorio/HENRY-Bootcamp/Proyectos%20Individuales/PI_ML_OPS-main/MLOpsReviews/Querys.ipynb#W5sZmlsZQ%3D%3D?line=0'>1</a>\u001b[0m get_max_duration(\u001b[39m'\u001b[39;49m\u001b[39mamazon\u001b[39;49m\u001b[39m'\u001b[39;49m)\n",
      "\u001b[1;32mc:\\Users\\jessg\\OneDrive\\Escritorio\\HENRY-Bootcamp\\Proyectos Individuales\\PI_ML_OPS-main\\MLOpsReviews\\Querys.ipynb Celda 5\u001b[0m in \u001b[0;36mget_max_duration\u001b[1;34m(platform, release_year, duration_type)\u001b[0m\n\u001b[0;32m     <a href='vscode-notebook-cell:/c%3A/Users/jessg/OneDrive/Escritorio/HENRY-Bootcamp/Proyectos%20Individuales/PI_ML_OPS-main/MLOpsReviews/Querys.ipynb#W5sZmlsZQ%3D%3D?line=16'>17</a>\u001b[0m query \u001b[39m=\u001b[39m \u001b[39mf\u001b[39m\u001b[39m\"\u001b[39m\u001b[39mSELECT * FROM DF WHERE id LIKE \u001b[39m\u001b[39m'\u001b[39m\u001b[39m{\u001b[39;00mplat\u001b[39m}\u001b[39;00m\u001b[39m'\u001b[39m\u001b[39m\"\u001b[39m\n\u001b[0;32m     <a href='vscode-notebook-cell:/c%3A/Users/jessg/OneDrive/Escritorio/HENRY-Bootcamp/Proyectos%20Individuales/PI_ML_OPS-main/MLOpsReviews/Querys.ipynb#W5sZmlsZQ%3D%3D?line=17'>18</a>\u001b[0m \u001b[39m#result = sqldf(query)\u001b[39;00m\n\u001b[1;32m---> <a href='vscode-notebook-cell:/c%3A/Users/jessg/OneDrive/Escritorio/HENRY-Bootcamp/Proyectos%20Individuales/PI_ML_OPS-main/MLOpsReviews/Querys.ipynb#W5sZmlsZQ%3D%3D?line=19'>20</a>\u001b[0m df \u001b[39m=\u001b[39m pysqldf(query)\t\n\u001b[0;32m     <a href='vscode-notebook-cell:/c%3A/Users/jessg/OneDrive/Escritorio/HENRY-Bootcamp/Proyectos%20Individuales/PI_ML_OPS-main/MLOpsReviews/Querys.ipynb#W5sZmlsZQ%3D%3D?line=20'>21</a>\u001b[0m df\u001b[39m.\u001b[39mhead()\n",
      "\u001b[1;32mc:\\Users\\jessg\\OneDrive\\Escritorio\\HENRY-Bootcamp\\Proyectos Individuales\\PI_ML_OPS-main\\MLOpsReviews\\Querys.ipynb Celda 5\u001b[0m in \u001b[0;36mget_max_duration.<locals>.<lambda>\u001b[1;34m(q)\u001b[0m\n\u001b[0;32m     <a href='vscode-notebook-cell:/c%3A/Users/jessg/OneDrive/Escritorio/HENRY-Bootcamp/Proyectos%20Individuales/PI_ML_OPS-main/MLOpsReviews/Querys.ipynb#W5sZmlsZQ%3D%3D?line=12'>13</a>\u001b[0m \u001b[39melse\u001b[39;00m:\n\u001b[0;32m     <a href='vscode-notebook-cell:/c%3A/Users/jessg/OneDrive/Escritorio/HENRY-Bootcamp/Proyectos%20Individuales/PI_ML_OPS-main/MLOpsReviews/Querys.ipynb#W5sZmlsZQ%3D%3D?line=13'>14</a>\u001b[0m     \u001b[39mreturn\u001b[39;00m (\u001b[39m\"\u001b[39m\u001b[39mamazon, disney, hulu, netflix.\u001b[39m\u001b[39m\"\u001b[39m)\n\u001b[1;32m---> <a href='vscode-notebook-cell:/c%3A/Users/jessg/OneDrive/Escritorio/HENRY-Bootcamp/Proyectos%20Individuales/PI_ML_OPS-main/MLOpsReviews/Querys.ipynb#W5sZmlsZQ%3D%3D?line=14'>15</a>\u001b[0m pysqldf \u001b[39m=\u001b[39m \u001b[39mlambda\u001b[39;00m q: sqldf(q, \u001b[39mglobals\u001b[39;49m())\n\u001b[0;32m     <a href='vscode-notebook-cell:/c%3A/Users/jessg/OneDrive/Escritorio/HENRY-Bootcamp/Proyectos%20Individuales/PI_ML_OPS-main/MLOpsReviews/Querys.ipynb#W5sZmlsZQ%3D%3D?line=15'>16</a>\u001b[0m \u001b[39m#QUERY:\u001b[39;00m\n\u001b[0;32m     <a href='vscode-notebook-cell:/c%3A/Users/jessg/OneDrive/Escritorio/HENRY-Bootcamp/Proyectos%20Individuales/PI_ML_OPS-main/MLOpsReviews/Querys.ipynb#W5sZmlsZQ%3D%3D?line=16'>17</a>\u001b[0m query \u001b[39m=\u001b[39m \u001b[39mf\u001b[39m\u001b[39m\"\u001b[39m\u001b[39mSELECT * FROM DF WHERE id LIKE \u001b[39m\u001b[39m'\u001b[39m\u001b[39m{\u001b[39;00mplat\u001b[39m}\u001b[39;00m\u001b[39m'\u001b[39m\u001b[39m\"\u001b[39m\n",
      "File \u001b[1;32mc:\\Users\\jessg\\AppData\\Local\\Programs\\Python\\Python310\\lib\\site-packages\\pandasql\\sqldf.py:156\u001b[0m, in \u001b[0;36msqldf\u001b[1;34m(query, env, db_uri)\u001b[0m\n\u001b[0;32m    124\u001b[0m \u001b[39mdef\u001b[39;00m \u001b[39msqldf\u001b[39m(query, env\u001b[39m=\u001b[39m\u001b[39mNone\u001b[39;00m, db_uri\u001b[39m=\u001b[39m\u001b[39m'\u001b[39m\u001b[39msqlite:///:memory:\u001b[39m\u001b[39m'\u001b[39m):\n\u001b[0;32m    125\u001b[0m     \u001b[39m\"\"\"\u001b[39;00m\n\u001b[0;32m    126\u001b[0m \u001b[39m    Query pandas data frames using sql syntax\u001b[39;00m\n\u001b[0;32m    127\u001b[0m \u001b[39m    This function is meant for backward compatibility only. New users are encouraged to use the PandaSQL class.\u001b[39;00m\n\u001b[1;32m   (...)\u001b[0m\n\u001b[0;32m    154\u001b[0m \u001b[39m    >>> sqldf(\"select avg(x) from df;\", locals())\u001b[39;00m\n\u001b[0;32m    155\u001b[0m \u001b[39m    \"\"\"\u001b[39;00m\n\u001b[1;32m--> 156\u001b[0m     \u001b[39mreturn\u001b[39;00m PandaSQL(db_uri)(query, env)\n",
      "File \u001b[1;32mc:\\Users\\jessg\\AppData\\Local\\Programs\\Python\\Python310\\lib\\site-packages\\pandasql\\sqldf.py:58\u001b[0m, in \u001b[0;36mPandaSQL.__call__\u001b[1;34m(self, query, env)\u001b[0m\n\u001b[0;32m     56\u001b[0m         \u001b[39mcontinue\u001b[39;00m\n\u001b[0;32m     57\u001b[0m     \u001b[39mself\u001b[39m\u001b[39m.\u001b[39mloaded_tables\u001b[39m.\u001b[39madd(table_name)\n\u001b[1;32m---> 58\u001b[0m     write_table(env[table_name], table_name, conn)\n\u001b[0;32m     60\u001b[0m \u001b[39mtry\u001b[39;00m:\n\u001b[0;32m     61\u001b[0m     result \u001b[39m=\u001b[39m read_sql(query, conn)\n",
      "File \u001b[1;32mc:\\Users\\jessg\\AppData\\Local\\Programs\\Python\\Python310\\lib\\site-packages\\pandasql\\sqldf.py:120\u001b[0m, in \u001b[0;36mwrite_table\u001b[1;34m(df, tablename, conn)\u001b[0m\n\u001b[0;32m    117\u001b[0m \u001b[39mwith\u001b[39;00m catch_warnings():\n\u001b[0;32m    118\u001b[0m     filterwarnings(\u001b[39m'\u001b[39m\u001b[39mignore\u001b[39m\u001b[39m'\u001b[39m,\n\u001b[0;32m    119\u001b[0m                    message\u001b[39m=\u001b[39m\u001b[39m'\u001b[39m\u001b[39mThe provided table name \u001b[39m\u001b[39m\\'\u001b[39;00m\u001b[39m%s\u001b[39;00m\u001b[39m\\'\u001b[39;00m\u001b[39m is not found exactly as such in the database\u001b[39m\u001b[39m'\u001b[39m \u001b[39m%\u001b[39m tablename)\n\u001b[1;32m--> 120\u001b[0m     to_sql(df, name\u001b[39m=\u001b[39;49mtablename, con\u001b[39m=\u001b[39;49mconn,\n\u001b[0;32m    121\u001b[0m            index\u001b[39m=\u001b[39;49m\u001b[39mnot\u001b[39;49;00m \u001b[39many\u001b[39;49m(name \u001b[39mis\u001b[39;49;00m \u001b[39mNone\u001b[39;49;00m \u001b[39mfor\u001b[39;49;00m name \u001b[39min\u001b[39;49;00m df\u001b[39m.\u001b[39;49mindex\u001b[39m.\u001b[39;49mnames))\n",
      "File \u001b[1;32mc:\\Users\\jessg\\AppData\\Local\\Programs\\Python\\Python310\\lib\\site-packages\\pandas\\io\\sql.py:697\u001b[0m, in \u001b[0;36mto_sql\u001b[1;34m(frame, name, con, schema, if_exists, index, index_label, chunksize, dtype, method, engine, **engine_kwargs)\u001b[0m\n\u001b[0;32m    692\u001b[0m \u001b[39melif\u001b[39;00m \u001b[39mnot\u001b[39;00m \u001b[39misinstance\u001b[39m(frame, DataFrame):\n\u001b[0;32m    693\u001b[0m     \u001b[39mraise\u001b[39;00m \u001b[39mNotImplementedError\u001b[39;00m(\n\u001b[0;32m    694\u001b[0m         \u001b[39m\"\u001b[39m\u001b[39m'\u001b[39m\u001b[39mframe\u001b[39m\u001b[39m'\u001b[39m\u001b[39m argument should be either a Series or a DataFrame\u001b[39m\u001b[39m\"\u001b[39m\n\u001b[0;32m    695\u001b[0m     )\n\u001b[1;32m--> 697\u001b[0m \u001b[39mreturn\u001b[39;00m pandas_sql\u001b[39m.\u001b[39mto_sql(\n\u001b[0;32m    698\u001b[0m     frame,\n\u001b[0;32m    699\u001b[0m     name,\n\u001b[0;32m    700\u001b[0m     if_exists\u001b[39m=\u001b[39mif_exists,\n\u001b[0;32m    701\u001b[0m     index\u001b[39m=\u001b[39mindex,\n\u001b[0;32m    702\u001b[0m     index_label\u001b[39m=\u001b[39mindex_label,\n\u001b[0;32m    703\u001b[0m     schema\u001b[39m=\u001b[39mschema,\n\u001b[0;32m    704\u001b[0m     chunksize\u001b[39m=\u001b[39mchunksize,\n\u001b[0;32m    705\u001b[0m     dtype\u001b[39m=\u001b[39mdtype,\n\u001b[0;32m    706\u001b[0m     method\u001b[39m=\u001b[39mmethod,\n\u001b[0;32m    707\u001b[0m     engine\u001b[39m=\u001b[39mengine,\n\u001b[0;32m    708\u001b[0m     \u001b[39m*\u001b[39m\u001b[39m*\u001b[39mengine_kwargs,\n\u001b[0;32m    709\u001b[0m )\n",
      "File \u001b[1;32mc:\\Users\\jessg\\AppData\\Local\\Programs\\Python\\Python310\\lib\\site-packages\\pandas\\io\\sql.py:1751\u001b[0m, in \u001b[0;36mSQLDatabase.to_sql\u001b[1;34m(self, frame, name, if_exists, index, index_label, schema, chunksize, dtype, method, engine, **engine_kwargs)\u001b[0m\n\u001b[0;32m   1729\u001b[0m table \u001b[39m=\u001b[39m \u001b[39mself\u001b[39m\u001b[39m.\u001b[39mprep_table(\n\u001b[0;32m   1730\u001b[0m     frame\u001b[39m=\u001b[39mframe,\n\u001b[0;32m   1731\u001b[0m     name\u001b[39m=\u001b[39mname,\n\u001b[1;32m   (...)\u001b[0m\n\u001b[0;32m   1736\u001b[0m     dtype\u001b[39m=\u001b[39mdtype,\n\u001b[0;32m   1737\u001b[0m )\n\u001b[0;32m   1739\u001b[0m total_inserted \u001b[39m=\u001b[39m sql_engine\u001b[39m.\u001b[39minsert_records(\n\u001b[0;32m   1740\u001b[0m     table\u001b[39m=\u001b[39mtable,\n\u001b[0;32m   1741\u001b[0m     con\u001b[39m=\u001b[39m\u001b[39mself\u001b[39m\u001b[39m.\u001b[39mconnectable,\n\u001b[1;32m   (...)\u001b[0m\n\u001b[0;32m   1748\u001b[0m     \u001b[39m*\u001b[39m\u001b[39m*\u001b[39mengine_kwargs,\n\u001b[0;32m   1749\u001b[0m )\n\u001b[1;32m-> 1751\u001b[0m \u001b[39mself\u001b[39;49m\u001b[39m.\u001b[39;49mcheck_case_sensitive(name\u001b[39m=\u001b[39;49mname, schema\u001b[39m=\u001b[39;49mschema)\n\u001b[0;32m   1752\u001b[0m \u001b[39mreturn\u001b[39;00m total_inserted\n",
      "File \u001b[1;32mc:\\Users\\jessg\\AppData\\Local\\Programs\\Python\\Python310\\lib\\site-packages\\pandas\\io\\sql.py:1644\u001b[0m, in \u001b[0;36mSQLDatabase.check_case_sensitive\u001b[1;34m(self, name, schema)\u001b[0m\n\u001b[0;32m   1640\u001b[0m \u001b[39mif\u001b[39;00m \u001b[39mnot\u001b[39;00m name\u001b[39m.\u001b[39misdigit() \u001b[39mand\u001b[39;00m \u001b[39mnot\u001b[39;00m name\u001b[39m.\u001b[39mislower():\n\u001b[0;32m   1641\u001b[0m     \u001b[39m# check for potentially case sensitivity issues (GH7815)\u001b[39;00m\n\u001b[0;32m   1642\u001b[0m     \u001b[39m# Only check when name is not a number and name is not lower case\u001b[39;00m\n\u001b[0;32m   1643\u001b[0m     engine \u001b[39m=\u001b[39m \u001b[39mself\u001b[39m\u001b[39m.\u001b[39mconnectable\u001b[39m.\u001b[39mengine\n\u001b[1;32m-> 1644\u001b[0m     \u001b[39mwith\u001b[39;00m \u001b[39mself\u001b[39;49m\u001b[39m.\u001b[39;49mconnectable\u001b[39m.\u001b[39;49mconnect() \u001b[39mas\u001b[39;00m conn:\n\u001b[0;32m   1645\u001b[0m         \u001b[39mif\u001b[39;00m _gt14():\n\u001b[0;32m   1646\u001b[0m             \u001b[39mfrom\u001b[39;00m \u001b[39msqlalchemy\u001b[39;00m \u001b[39mimport\u001b[39;00m inspect\n",
      "\u001b[1;31mAttributeError\u001b[0m: 'Connection' object has no attribute 'connect'"
     ]
    }
   ],
   "source": [
    "get_max_duration('amazon')"
   ]
  },
  {
   "cell_type": "code",
   "execution_count": null,
   "metadata": {},
   "outputs": [],
   "source": []
  },
  {
   "cell_type": "code",
   "execution_count": null,
   "metadata": {},
   "outputs": [],
   "source": [
    "def get_max_duration(year = None, platform = None, duration_type = None):\n",
    "    DF = pd.read_csv(\"movie_set.csv\")\n",
    "    maximo = DF['duration_int'].max\n",
    "    #Definición de las plataformas:\n",
    "    if platform == \"amazon\":\n",
    "        plat = \"a%\"\n",
    "    elif platform == \"disney\":\n",
    "        plat = \"d%\"\n",
    "    elif platform == \"hulu\":\n",
    "        plat = \"h%\"\n",
    "    elif platform == \"netflix\":\n",
    "        plat = \"n%\"\n",
    "    else:\n",
    "        return (\"amazon, disney, hulu, netflix.\")\n",
    "    \n",
    "    DF_filtro = DF[(DF['release_year'] == year) & (DF['duration_type']=='duration_type') & (DF['id']=='duration_type')]\n",
    "    \n",
    "    #QUERY:\n",
    "    query = f\"SELECT COUNT(title) FROM df WHERE title LIKE '%{keyword}%' AND id LIKE '{plat}'\"\n",
    "    #Se guarda el resultado en una nueva variable, dándole el formato sql:\n",
    "    result = sqldf(query)"
   ]
  }
 ],
 "metadata": {
  "kernelspec": {
   "display_name": "Python 3",
   "language": "python",
   "name": "python3"
  },
  "language_info": {
   "codemirror_mode": {
    "name": "ipython",
    "version": 3
   },
   "file_extension": ".py",
   "mimetype": "text/x-python",
   "name": "python",
   "nbconvert_exporter": "python",
   "pygments_lexer": "ipython3",
   "version": "3.10.4"
  },
  "orig_nbformat": 4,
  "vscode": {
   "interpreter": {
    "hash": "845123a55cf8f712ea133901aaf32d326470d1da16ed397338e0d83c91e9d420"
   }
  }
 },
 "nbformat": 4,
 "nbformat_minor": 2
}
