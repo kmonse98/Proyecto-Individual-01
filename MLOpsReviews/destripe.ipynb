{
 "cells": [
  {
   "cell_type": "code",
   "execution_count": 1,
   "metadata": {},
   "outputs": [],
   "source": [
    "import pandas as pd\n",
    "import numpy as np \n",
    "#from pandasql import sqldf"
   ]
  },
  {
   "cell_type": "markdown",
   "metadata": {},
   "source": []
  },
  {
   "cell_type": "code",
   "execution_count": 2,
   "metadata": {},
   "outputs": [
    {
     "data": {
      "text/html": [
       "<div>\n",
       "<style scoped>\n",
       "    .dataframe tbody tr th:only-of-type {\n",
       "        vertical-align: middle;\n",
       "    }\n",
       "\n",
       "    .dataframe tbody tr th {\n",
       "        vertical-align: top;\n",
       "    }\n",
       "\n",
       "    .dataframe thead th {\n",
       "        text-align: right;\n",
       "    }\n",
       "</style>\n",
       "<table border=\"1\" class=\"dataframe\">\n",
       "  <thead>\n",
       "    <tr style=\"text-align: right;\">\n",
       "      <th></th>\n",
       "      <th>show_id</th>\n",
       "      <th>type</th>\n",
       "      <th>title</th>\n",
       "      <th>director</th>\n",
       "      <th>cast</th>\n",
       "      <th>country</th>\n",
       "      <th>date_added</th>\n",
       "      <th>release_year</th>\n",
       "      <th>rating</th>\n",
       "      <th>duration</th>\n",
       "      <th>listed_in</th>\n",
       "      <th>description</th>\n",
       "      <th>id</th>\n",
       "      <th>duration_int</th>\n",
       "      <th>duration_type</th>\n",
       "      <th>score</th>\n",
       "    </tr>\n",
       "  </thead>\n",
       "  <tbody>\n",
       "    <tr>\n",
       "      <th>0</th>\n",
       "      <td>s1</td>\n",
       "      <td>movie</td>\n",
       "      <td>the grand seduction</td>\n",
       "      <td>don mckellar</td>\n",
       "      <td>brendan gleeson, taylor kitsch, gordon pinsent</td>\n",
       "      <td>canada</td>\n",
       "      <td>2021-03-30</td>\n",
       "      <td>2014</td>\n",
       "      <td>g</td>\n",
       "      <td>113 min</td>\n",
       "      <td>comedy, drama</td>\n",
       "      <td>a small fishing village must procure a local d...</td>\n",
       "      <td>as1</td>\n",
       "      <td>113.0</td>\n",
       "      <td>min</td>\n",
       "      <td>99</td>\n",
       "    </tr>\n",
       "    <tr>\n",
       "      <th>1</th>\n",
       "      <td>s2</td>\n",
       "      <td>movie</td>\n",
       "      <td>take care good night</td>\n",
       "      <td>girish joshi</td>\n",
       "      <td>mahesh manjrekar, abhay mahajan, sachin khedekar</td>\n",
       "      <td>india</td>\n",
       "      <td>2021-03-30</td>\n",
       "      <td>2018</td>\n",
       "      <td>13+</td>\n",
       "      <td>110 min</td>\n",
       "      <td>drama, international</td>\n",
       "      <td>a metro family decides to fight a cyber crimin...</td>\n",
       "      <td>as2</td>\n",
       "      <td>110.0</td>\n",
       "      <td>min</td>\n",
       "      <td>37</td>\n",
       "    </tr>\n",
       "  </tbody>\n",
       "</table>\n",
       "</div>"
      ],
      "text/plain": [
       "  show_id   type                 title      director  \\\n",
       "0      s1  movie   the grand seduction  don mckellar   \n",
       "1      s2  movie  take care good night  girish joshi   \n",
       "\n",
       "                                               cast country  date_added  \\\n",
       "0    brendan gleeson, taylor kitsch, gordon pinsent  canada  2021-03-30   \n",
       "1  mahesh manjrekar, abhay mahajan, sachin khedekar   india  2021-03-30   \n",
       "\n",
       "   release_year rating duration             listed_in  \\\n",
       "0          2014      g  113 min         comedy, drama   \n",
       "1          2018    13+  110 min  drama, international   \n",
       "\n",
       "                                         description   id  duration_int  \\\n",
       "0  a small fishing village must procure a local d...  as1         113.0   \n",
       "1  a metro family decides to fight a cyber crimin...  as2         110.0   \n",
       "\n",
       "  duration_type  score  \n",
       "0           min     99  \n",
       "1           min     37  "
      ]
     },
     "execution_count": 2,
     "metadata": {},
     "output_type": "execute_result"
    }
   ],
   "source": [
    "movie_df = pd.read_csv(\"movie_set.csv\")\n",
    "movie_df.head(2)"
   ]
  },
  {
   "attachments": {},
   "cell_type": "markdown",
   "metadata": {},
   "source": [
    "Película con mayor duración con filtros opcionales de AÑO, PLATAFORMA Y TIPO DE DURACIÓN. (la función debe llamarse get_max_duration(year, platform, duration_type))"
   ]
  },
  {
   "cell_type": "code",
   "execution_count": 14,
   "metadata": {},
   "outputs": [],
   "source": [
    "def get_max_duration(platform = None, anio = None, tipo = None):\n",
    "    #Lectura de la base de datos:\n",
    "    print('platform, Año, tipo')\n",
    "    df = pd.read_csv(\"movie_set.csv\")\n",
    "\n",
    "    #Definición de las plataformas:\n",
    "    if platform == \"amazon\":\n",
    "        plat = \"a\"\n",
    "    elif platform == \"disney\":\n",
    "        plat = \"d\"\n",
    "    elif platform == \"hulu\":\n",
    "        plat = \"h\"\n",
    "    elif platform == \"netflix\":\n",
    "        plat = \"n\"\n",
    "    else:\n",
    "        pass\n",
    "    \n",
    "    if (platform != None and anio != None and tipo != None):\n",
    "        df_filtro = df[df['id'].str.contains(plat, regex=True, na=True)]\n",
    "        df_filtro = df_filtro[(df_filtro['release_year'] == anio) &  (df_filtro['duration_type'] == tipo)]\n",
    "        print('0')\n",
    "    elif(platform != None and anio != None and tipo == None):\n",
    "        df_filtro = df[df['id'].str.contains(plat, regex=True, na=True)]\n",
    "        df_filtro = df_filtro[(df_filtro['release_year'] == anio)]\n",
    "        print('1')\n",
    "    elif(platform != None and anio == None and tipo != None):\n",
    "        df_filtro = df[df['id'].str.contains(plat, regex=True, na=True)]\n",
    "        df_filtro = df_filtro[(df_filtro['duration_type'] == tipo)]\n",
    "        print('2')\n",
    "    elif (platform == None and anio != None and tipo != None):\n",
    "        df_filtro = df[(df['release_year'] == anio) &  (df['duration_type'] == tipo)]\n",
    "        print('3')\n",
    "    elif (platform == None and anio != None and tipo == None):\n",
    "        df_filtro = df[(df['release_year'] == anio)]\n",
    "        print('4')\n",
    "    elif (platform == None and anio == None and tipo != None):\n",
    "        df_filtro = df[(df['duration_type'] == tipo)]\n",
    "        print('5')    \n",
    "    else: df_filtro = df \n",
    "    maximo = df_filtro['duration_int'].max()\n",
    "    return maximo"
   ]
  },
  {
   "cell_type": "code",
   "execution_count": 16,
   "metadata": {},
   "outputs": [
    {
     "name": "stdout",
     "output_type": "stream",
     "text": [
      "platform, Año, tipo\n",
      "0\n"
     ]
    },
    {
     "data": {
      "text/plain": [
       "1.0"
      ]
     },
     "execution_count": 16,
     "metadata": {},
     "output_type": "execute_result"
    }
   ],
   "source": [
    "get_max_duration('amazon',2000,'season')\n"
   ]
  },
  {
   "attachments": {},
   "cell_type": "markdown",
   "metadata": {},
   "source": [
    "Cantidad de películas por plataforma con un puntaje mayor a XX en determinado año (la función debe llamarse get_score_count(platform, scored, year))"
   ]
  },
  {
   "cell_type": "code",
   "execution_count": 35,
   "metadata": {},
   "outputs": [],
   "source": [
    "def get_score_count1(platform : str,  puntaje = float, anio = int):\n",
    "    #Lectura de la base de datos:\n",
    "    df = pd.read_csv(\"movie_set.csv\")\n",
    "\n",
    "    #Definición de las plataformas:\n",
    "    if platform == \"amazon\":\n",
    "        plat = \"a\"\n",
    "    elif platform == \"disney\":\n",
    "        plat = \"d\"\n",
    "    elif platform == \"hulu\":\n",
    "        plat = \"h\"\n",
    "    elif platform == \"netflix\":\n",
    "        plat = \"n\"\n",
    "    else:\n",
    "        print(\"Plataforma Incorrecta\")\n",
    "    \n",
    "    df_filtro = df[df['id'].str.contains(plat, regex=True, na=True)]\n",
    "    df_filtro = df_filtro[(df_filtro['score'] > puntaje) &  (df_filtro['release_year'] == anio)]\n",
    "    \n",
    "    return df_filtro.shape[0]"
   ]
  },
  {
   "cell_type": "code",
   "execution_count": 36,
   "metadata": {},
   "outputs": [
    {
     "data": {
      "text/plain": [
       "17"
      ]
     },
     "execution_count": 36,
     "metadata": {},
     "output_type": "execute_result"
    }
   ],
   "source": [
    "get_score_count1('disney',30,2000)"
   ]
  },
  {
   "attachments": {},
   "cell_type": "markdown",
   "metadata": {},
   "source": [
    "Cantidad de películas por plataforma con filtro de PLATAFORMA. (La función debe llamarse get_count_platform(platform))"
   ]
  },
  {
   "cell_type": "code",
   "execution_count": 32,
   "metadata": {},
   "outputs": [],
   "source": [
    "def get_count_platform(platform):\n",
    "    df = pd.read_csv(\"movie_set.csv\")\n",
    "\n",
    "    #Definición de las plataformas:\n",
    "    if platform == \"amazon\":\n",
    "        plat = \"a\"\n",
    "    elif platform == \"disney\":\n",
    "        plat = \"d\"\n",
    "    elif platform == \"hulu\":\n",
    "        plat = \"h\"\n",
    "    elif platform == \"netflix\":\n",
    "        plat = \"n\"\n",
    "    else:\n",
    "        print(\"Plataforma Incorrecta\")\n",
    "    \n",
    "    df_filtro = df[df['id'].str.contains(plat, regex=True, na=True)]\n",
    "    \n",
    "    return df_filtro.shape[0]\n",
    "    "
   ]
  },
  {
   "cell_type": "code",
   "execution_count": 33,
   "metadata": {},
   "outputs": [
    {
     "data": {
      "text/plain": [
       "1450"
      ]
     },
     "execution_count": 33,
     "metadata": {},
     "output_type": "execute_result"
    }
   ],
   "source": [
    "get_count_platform('disney')"
   ]
  },
  {
   "attachments": {},
   "cell_type": "markdown",
   "metadata": {},
   "source": [
    "Actor que más se repite según plataforma y año. (La función debe llamarse get_actor(platform, year))"
   ]
  },
  {
   "attachments": {},
   "cell_type": "markdown",
   "metadata": {},
   "source": [
    "La columna 'cast' tiene valores del tipo 'NaN' por lo que pasaremos a un etiqueta 'sin dato'"
   ]
  },
  {
   "cell_type": "code",
   "execution_count": 28,
   "metadata": {},
   "outputs": [],
   "source": [
    "def get_actor(platform: str, year: int):\n",
    "    \n",
    "    ''' Remplazamos los valores 'NnN' por la etiqueta 'sin dato'  '''\n",
    "    df = pd.read_csv(\"movie_set.csv\")\n",
    "    df['cast'].fillna('sin dato', inplace=True) \n",
    "    df[df['cast'].isna()]\n",
    "\n",
    "    ''' Convertimos la columna 'cast' al tipo 'string' '''\n",
    "    df['cast'] = df['cast'].astype(str) \n",
    "\n",
    "    if platform == \"amazon\":\n",
    "        plat = \"a\"\n",
    "    elif platform == \"disney\":\n",
    "        plat = \"d\"\n",
    "    elif platform == \"hulu\":\n",
    "        plat = \"h\"\n",
    "    elif platform == \"netflix\":\n",
    "        plat = \"n\"\n",
    "    else:\n",
    "        print(\"Plataforma Incorrecta\")\n",
    "    \n",
    "    df_filtro1 = df[df['id'].str.contains(plat, regex=True, na=True)]\n",
    "    df_filtro2 = df_filtro1[df_filtro1['release_year'] == year] \n",
    "\n",
    "    l = df_filtro2.shape[0] \n",
    "\n",
    "    lista_cast = []\n",
    "    for i in range(0,l):\n",
    "        lista = df_filtro2['cast'].iloc[i].split(',')\n",
    "    for elemento in lista:\n",
    "        lista_cast.append(elemento)\n",
    "\n",
    "    actor = max(lista_cast, key=lista_cast.count)    \n",
    "\n",
    "    return actor  "
   ]
  },
  {
   "cell_type": "code",
   "execution_count": 29,
   "metadata": {},
   "outputs": [
    {
     "data": {
      "text/plain": [
       "'sin dato'"
      ]
     },
     "execution_count": 29,
     "metadata": {},
     "output_type": "execute_result"
    }
   ],
   "source": [
    "get_actor('hulu', 2000)"
   ]
  }
 ],
 "metadata": {
  "kernelspec": {
   "display_name": "Python 3",
   "language": "python",
   "name": "python3"
  },
  "language_info": {
   "codemirror_mode": {
    "name": "ipython",
    "version": 3
   },
   "file_extension": ".py",
   "mimetype": "text/x-python",
   "name": "python",
   "nbconvert_exporter": "python",
   "pygments_lexer": "ipython3",
   "version": "3.10.4"
  },
  "orig_nbformat": 4,
  "vscode": {
   "interpreter": {
    "hash": "845123a55cf8f712ea133901aaf32d326470d1da16ed397338e0d83c91e9d420"
   }
  }
 },
 "nbformat": 4,
 "nbformat_minor": 2
}
